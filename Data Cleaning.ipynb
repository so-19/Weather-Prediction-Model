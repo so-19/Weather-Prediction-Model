{
 "cells": [
  {
   "cell_type": "code",
   "execution_count": 1,
   "id": "2d133e8d-154a-4ced-b4c0-a951069f7e17",
   "metadata": {},
   "outputs": [],
   "source": [
    "import pandas as pd\n",
    "import numpy as np\n",
    "from sklearn.preprocessing import MinMaxScaler\n",
    "from sklearn.model_selection import train_test_split"
   ]
  },
  {
   "cell_type": "code",
   "execution_count": 9,
   "id": "e79ec26f-608a-461f-b633-8961ed2fa7d3",
   "metadata": {},
   "outputs": [
    {
     "name": "stdout",
     "output_type": "stream",
     "text": [
      "Training set shape: (1567, 4)\n",
      "Testing set shape: (392, 4)\n"
     ]
    }
   ],
   "source": [
    "df = pd.read_excel('Data.xlsx')\n",
    "features = ['Temperature', 'Relative Humidity', 'Wind Speed', 'Precipitation']\n",
    "X = df[features]\n",
    "\n",
    "scaler = MinMaxScaler()\n",
    "X_normalized = pd.DataFrame(scaler.fit_transform(X), columns=features)\n",
    "y = df['Temperature'].shift(-1)\n",
    "X_normalized = X_normalized[:-1]\n",
    "y = y[:-1]\n",
    "X_train, X_test, y_train, y_test = train_test_split(X_normalized, y, test_size=0.2, random_state=42)\n",
    "\n",
    "print(\"Training set shape:\", X_train.shape)\n",
    "print(\"Testing set shape:\", X_test.shape)\n",
    "\n",
    "X_train.to_excel('X_train.xlsx', index=False)\n",
    "X_test.to_excel('X_test.xlsx', index=False)\n",
    "pd.DataFrame(y_train, columns=['Target']).to_excel('y_train.xlsx', index=False)\n",
    "pd.DataFrame(y_test, columns=['Target']).to_excel('y_test.xlsx', index=False)"
   ]
  },
  {
   "cell_type": "code",
   "execution_count": null,
   "id": "8c22edc6-ae40-4b05-9b64-4743ab821f49",
   "metadata": {},
   "outputs": [],
   "source": []
  }
 ],
 "metadata": {
  "kernelspec": {
   "display_name": "Python 3 (ipykernel)",
   "language": "python",
   "name": "python3"
  },
  "language_info": {
   "codemirror_mode": {
    "name": "ipython",
    "version": 3
   },
   "file_extension": ".py",
   "mimetype": "text/x-python",
   "name": "python",
   "nbconvert_exporter": "python",
   "pygments_lexer": "ipython3",
   "version": "3.12.4"
  }
 },
 "nbformat": 4,
 "nbformat_minor": 5
}
